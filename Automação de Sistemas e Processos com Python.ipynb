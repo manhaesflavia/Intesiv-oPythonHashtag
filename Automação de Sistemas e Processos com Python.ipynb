{
 "cells": [
  {
   "cell_type": "markdown",
   "id": "dc536c63",
   "metadata": {},
   "source": [
    "# Automação de Sistemas e Processos com Python"
   ]
  },
  {
   "cell_type": "markdown",
   "id": "4da8a3de",
   "metadata": {},
   "source": [
    "## Desafio:"
   ]
  },
  {
   "cell_type": "markdown",
   "id": "e2310a76",
   "metadata": {},
   "source": [
    "#### Todos os dias, o nosso sistema atualiza as vendas do dia anterior.\n",
    "O seu trabalho diário, como analista, é enviar um e-mail para a diretoria, assim que começar a trabalhar, com o faturamento e a quantidade de produtos vendidos no dia anterior\n",
    "\n",
    "E-mail da diretoria: seugmail+diretoria@gmail.com<br>\n",
    "Local onde o sistema disponibiliza as vendas do dia anterior: https://drive.google.com/drive/folders/149xknr9JvrlEnhNWO49zPcw0PW5icxga?usp=sharing\n",
    "\n",
    "Para resolver isso, vamos usar o pyautogui, uma biblioteca de automação de comandos do mouse e do teclado\n",
    "\n",
    "Comandos pyautogui: https://pyautogui.readthedocs.io/en/latest/quickstart.html"
   ]
  },
  {
   "cell_type": "code",
   "execution_count": 53,
   "id": "748b7664",
   "metadata": {
    "scrolled": false
   },
   "outputs": [],
   "source": [
    "#! pip install pyautogui\n",
    "import pyautogui\n",
    "import pyperclip\n",
    "import time\n",
    "import pandas as pd\n",
    "import datetime\n",
    "from datetime import datetime, timedelta \n",
    "pyautogui.PAUSE = 1"
   ]
  },
  {
   "cell_type": "code",
   "execution_count": 54,
   "id": "368417d3",
   "metadata": {},
   "outputs": [],
   "source": [
    "# Passo 1: Entrar no sistema da empresa\n",
    "pyautogui.hotkey(\"ctrl\",\"t\") # abrir uma nova guia no windows\n",
    "pyperclip.copy(\"https://drive.google.com/drive/folders/149xknr9JvrlEnhNWO49zPcw0PW5icxga\") # para copiar links e diretorios, pq o pyautogui nao reconhece alguns caracteres\n",
    "pyautogui.hotkey(\"ctrl\",\"v\") # colar link\n",
    "pyautogui.press(\"enter\")\n",
    "\n",
    "time.sleep(5) # pausa pontual de 5\"\n",
    "\n",
    "# Passo 2: Navegar no sistema e encontrar a base de dados (entrar na pasta Exportar)\n",
    "pyautogui.click(x=2925, y=363, clicks = 2) # usei a resolução da tela do 2 monitor\n",
    "time.sleep(2) # pausa pontual de 2\"\n",
    "\n",
    "# Passo 3: Download da base de dados\n",
    "pyautogui.click(x=2925, y=363, clicks = 1)\n",
    "pyautogui.click(x=4620, y=230)\n",
    "pyautogui.click(x=4314, y=730)\n",
    "time.sleep(7)"
   ]
  },
  {
   "cell_type": "markdown",
   "id": "0a4940ea",
   "metadata": {},
   "source": [
    "# Vamor agora ler o arquivo baixado para pegar os indicadores\n",
    "- Faturamento\n",
    "- Quantidade de Produtos"
   ]
  },
  {
   "cell_type": "code",
   "execution_count": 55,
   "id": "2df55c85",
   "metadata": {},
   "outputs": [
    {
     "data": {
      "text/html": [
       "<div>\n",
       "<style scoped>\n",
       "    .dataframe tbody tr th:only-of-type {\n",
       "        vertical-align: middle;\n",
       "    }\n",
       "\n",
       "    .dataframe tbody tr th {\n",
       "        vertical-align: top;\n",
       "    }\n",
       "\n",
       "    .dataframe thead th {\n",
       "        text-align: right;\n",
       "    }\n",
       "</style>\n",
       "<table border=\"1\" class=\"dataframe\">\n",
       "  <thead>\n",
       "    <tr style=\"text-align: right;\">\n",
       "      <th></th>\n",
       "      <th>Código Venda</th>\n",
       "      <th>Data</th>\n",
       "      <th>ID Loja</th>\n",
       "      <th>Produto</th>\n",
       "      <th>Quantidade</th>\n",
       "      <th>Valor Unitário</th>\n",
       "      <th>Valor Final</th>\n",
       "    </tr>\n",
       "  </thead>\n",
       "  <tbody>\n",
       "    <tr>\n",
       "      <th>0</th>\n",
       "      <td>65014</td>\n",
       "      <td>2019-12-01</td>\n",
       "      <td>Shopping Morumbi</td>\n",
       "      <td>Sunga Listrado</td>\n",
       "      <td>5</td>\n",
       "      <td>114</td>\n",
       "      <td>570</td>\n",
       "    </tr>\n",
       "    <tr>\n",
       "      <th>1</th>\n",
       "      <td>65014</td>\n",
       "      <td>2019-12-01</td>\n",
       "      <td>Shopping Morumbi</td>\n",
       "      <td>Casaco Listrado</td>\n",
       "      <td>1</td>\n",
       "      <td>269</td>\n",
       "      <td>269</td>\n",
       "    </tr>\n",
       "    <tr>\n",
       "      <th>2</th>\n",
       "      <td>65016</td>\n",
       "      <td>2019-12-01</td>\n",
       "      <td>Iguatemi Campinas</td>\n",
       "      <td>Sapato Listrado</td>\n",
       "      <td>2</td>\n",
       "      <td>363</td>\n",
       "      <td>726</td>\n",
       "    </tr>\n",
       "    <tr>\n",
       "      <th>3</th>\n",
       "      <td>65016</td>\n",
       "      <td>2019-12-01</td>\n",
       "      <td>Iguatemi Campinas</td>\n",
       "      <td>Casaco</td>\n",
       "      <td>1</td>\n",
       "      <td>250</td>\n",
       "      <td>250</td>\n",
       "    </tr>\n",
       "    <tr>\n",
       "      <th>4</th>\n",
       "      <td>65017</td>\n",
       "      <td>2019-12-01</td>\n",
       "      <td>Shopping SP Market</td>\n",
       "      <td>Gorro Liso</td>\n",
       "      <td>3</td>\n",
       "      <td>92</td>\n",
       "      <td>276</td>\n",
       "    </tr>\n",
       "  </tbody>\n",
       "</table>\n",
       "</div>"
      ],
      "text/plain": [
       "   Código Venda       Data             ID Loja          Produto  Quantidade  \\\n",
       "0         65014 2019-12-01    Shopping Morumbi   Sunga Listrado           5   \n",
       "1         65014 2019-12-01    Shopping Morumbi  Casaco Listrado           1   \n",
       "2         65016 2019-12-01   Iguatemi Campinas  Sapato Listrado           2   \n",
       "3         65016 2019-12-01   Iguatemi Campinas           Casaco           1   \n",
       "4         65017 2019-12-01  Shopping SP Market       Gorro Liso           3   \n",
       "\n",
       "   Valor Unitário  Valor Final  \n",
       "0             114          570  \n",
       "1             269          269  \n",
       "2             363          726  \n",
       "3             250          250  \n",
       "4              92          276  "
      ]
     },
     "execution_count": 55,
     "metadata": {},
     "output_type": "execute_result"
    }
   ],
   "source": [
    "# Passo 4: Calcular os indicadores (faturamento, quantidade de produtos)\n",
    "\n",
    "# ------ usar o r para o python nao ler as barrinhas, entao tanto faz como vai estar a barra\n",
    "tabela = pd.read_excel(r\"H:\\.shortcut-targets-by-id\\1uWtCw7A-MXkWcj8z5GmBPug5q9Ik-m3g\\aTrabalho\\Aulas profissionalizantes\\Python JULHO 2022\\AULA 1\\Vendas - Dez.xlsx\")\n",
    "tabela.head()"
   ]
  },
  {
   "cell_type": "code",
   "execution_count": 56,
   "id": "8acc3c38",
   "metadata": {},
   "outputs": [
    {
     "name": "stdout",
     "output_type": "stream",
     "text": [
      "quantidade 15227\n",
      "faturamento 2917311\n"
     ]
    }
   ],
   "source": [
    "# quantidade -> soma da coluna Quantidade\n",
    "# faturamento -> soma da coluna Valor Final\n",
    "# ontem -> data de ontem\n",
    "\n",
    "\n",
    "quantidade = tabela[\"Quantidade\"].sum()\n",
    "print(\"quantidade\",quantidade)\n",
    "faturamento = tabela[\"Valor Final\"].sum()\n",
    "print(\"faturamento\",faturamento)\n",
    "ontem = (datetime.now() - timedelta (1)).strftime('%d-%m-%Y')"
   ]
  },
  {
   "cell_type": "markdown",
   "id": "9aac13c4",
   "metadata": {},
   "source": [
    "## Vamor agora enviar um email pelo gmail"
   ]
  },
  {
   "cell_type": "code",
   "execution_count": 57,
   "id": "ae97886d",
   "metadata": {},
   "outputs": [],
   "source": [
    "# Passo 5: Entrar no email\n",
    "pyautogui.hotkey(\"ctrl\",\"t\") # abrir uma nova guia no windows\n",
    "pyperclip.copy(\"https://mail.google.com/mail/u/0/#inbox\") # \n",
    "pyautogui.hotkey(\"ctrl\",\"v\") # colar link\n",
    "pyautogui.press(\"enter\")\n",
    "time.sleep(7)\n",
    "\n",
    "# Passo 6: Mandar um email para a diretoria com os indicadores\n",
    "# clicar no botão +\n",
    "pyautogui.click(x=2543, y=253)\n",
    "time.sleep(2)\n",
    "\n",
    "# ------- Escrever o destinatário \n",
    "pyautogui.write(\"flavia.vasconcellos@recife.pe.gov.br\")\n",
    "pyautogui.press(\"tab\") #selecionar o email\n",
    "pyautogui.press(\"tab\") #passar para o assunto\n",
    "\n",
    "# ------- Escrever o assunto\n",
    "pyperclip.copy(\"Relatório de Vendas - intensivao python\")\n",
    "pyautogui.hotkey(\"ctrl\",\"v\")\n",
    "pyautogui.press(\"tab\") #passar para o corpo do email\n",
    "\n",
    "# ----- Escrever o corpo do email\n",
    "corpoEmail = f\"\"\"\n",
    "Prezados, bom dia\n",
    "\n",
    "O faturamento de ontem ({ontem}) foi de: R$ {faturamento:,.2f}\n",
    "A quantidade de produtos foi de {quantidade:,.2f}\n",
    "\n",
    "\"\"\"\n",
    "\n",
    "pyperclip.copy(corpoEmail)\n",
    "pyautogui.hotkey(\"ctrl\",\"v\")\n",
    "\n",
    "# ------- enviar o email\n",
    "pyautogui.hotkey(\"ctrl\",\"enter\")"
   ]
  }
 ],
 "metadata": {
  "kernelspec": {
   "display_name": "Python 3 (ipykernel)",
   "language": "python",
   "name": "python3"
  },
  "language_info": {
   "codemirror_mode": {
    "name": "ipython",
    "version": 3
   },
   "file_extension": ".py",
   "mimetype": "text/x-python",
   "name": "python",
   "nbconvert_exporter": "python",
   "pygments_lexer": "ipython3",
   "version": "3.9.7"
  }
 },
 "nbformat": 4,
 "nbformat_minor": 5
}
